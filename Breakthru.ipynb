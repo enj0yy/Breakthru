{
 "cells": [
  {
   "cell_type": "markdown",
   "metadata": {},
   "source": [
    "# Breakthru\n",
    "Player 1: \n",
    "- Frota: 8 navios amarelos e 1 navio-almirante localizados no centro do tabuleiro.\n",
    "- Objetivo: Mover o navio-almirante para o perímetro do tabuleiro.\n",
    "\n",
    "Player 2:\n",
    "- Frota: 12 navios cinzas localizados nas bordas do tabuleiro.\n",
    "- Objetivo: Capturar o navio-almirante. \n",
    "\n",
    "Gameplay:\n",
    "- É escolhido aleatóriamente quem será o amarelo e quem será o cinza.\n",
    "- O amarelo escolhe quem começa.\n",
    "- Possibilidade de jogada 1: O jogador pode se mover pra qualquer espaço vazio verticalmente ou horizontalmente (Tal qual a torre do xadrez).\n",
    "- Possibilidade de jogada 2: Mover um quadrado na diagonal para capturar uma peça do oponente (Tal qual um peao do xadrez).\n",
    "\n",
    "# Tabuleiro\n",
    "<div>\n",
    "<img src=\"./tabuleiro.png\" width=\"400\"/>\n",
    "</div>\n",
    "\n"
   ]
  },
  {
   "cell_type": "code",
   "execution_count": 3,
   "metadata": {},
   "outputs": [
    {
     "name": "stdout",
     "output_type": "stream",
     "text": [
      "Nenhuma peça na posição (2, 4)\n",
      "Peça na posição (3, 4): P1\n",
      "Nenhuma peça na posição (5, 4)\n",
      "Nenhuma peça na posição (6, 6)\n"
     ]
    }
   ],
   "source": [
    "import tkinter as tk\n",
    "\n",
    "class BoardGameGUI:\n",
    "    def __init__(self, master, rows, cols):\n",
    "        self.master = master\n",
    "        self.rows = rows\n",
    "        self.cols = cols\n",
    "        self.create_board()\n",
    "\n",
    "    def create_board(self):\n",
    "        self.buttons = []\n",
    "        self.board_state = [[None for _ in range(self.cols)] for _ in range(self.rows)]  # Representação do estado do tabuleiro\n",
    "        for row in range(self.rows):\n",
    "            button_row = []\n",
    "            for col in range(self.cols):\n",
    "                button = tk.Button(self.master, width=4, height=2, command=lambda r=row, c=col: self.on_button_click(r, c))\n",
    "                button.grid(row=row, column=col)\n",
    "                button_row.append(button)\n",
    "            self.buttons.append(button_row)\n",
    "\n",
    "    def on_button_click(self, row, col):\n",
    "        piece = self.board_state[row][col]\n",
    "        if piece:\n",
    "            print(f\"Peça na posição ({row}, {col}): {piece}\")\n",
    "        else:\n",
    "            print(f\"Nenhuma peça na posição ({row}, {col})\")\n",
    "\n",
    "    def place_piece(self, row, col, piece):\n",
    "        self.board_state[row][col] = piece\n",
    "        button = self.buttons[row][col]\n",
    "        button.config(text=piece)\n",
    "\n",
    "def main():\n",
    "    root = tk.Tk()\n",
    "    root.title(\"Breakthru\")\n",
    "    rows = 7\n",
    "    cols = 7\n",
    "    board_game_gui = BoardGameGUI(root, rows, cols)\n",
    "    \n",
    "    # Exemplo de como colocar uma peça no tabuleiro\n",
    "    board_game_gui.place_piece(3, 4, \"P1\")  # Coloca uma peça na posição (3, 4)\n",
    "    root.mainloop()\n",
    "\n",
    "if __name__ == \"__main__\":\n",
    "    main()\n"
   ]
  }
 ],
 "metadata": {
  "kernelspec": {
   "display_name": "Python 3",
   "language": "python",
   "name": "python3"
  },
  "language_info": {
   "codemirror_mode": {
    "name": "ipython",
    "version": 3
   },
   "file_extension": ".py",
   "mimetype": "text/x-python",
   "name": "python",
   "nbconvert_exporter": "python",
   "pygments_lexer": "ipython3",
   "version": "3.11.4"
  }
 },
 "nbformat": 4,
 "nbformat_minor": 2
}
